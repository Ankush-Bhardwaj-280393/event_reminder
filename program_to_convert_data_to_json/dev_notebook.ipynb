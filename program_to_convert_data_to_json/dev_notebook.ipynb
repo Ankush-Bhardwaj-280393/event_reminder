{
 "cells": [
  {
   "cell_type": "code",
   "execution_count": 41,
   "metadata": {},
   "outputs": [],
   "source": [
    "import pandas as pd\n",
    "import json\n",
    "# import gdown\n",
    "\n",
    "\n",
    "birthday_df=pd.read_excel(\"excel_data/birthdays.xlsx\")\n",
    "anniversary_df=pd.read_excel(\"excel_data/anniversaries.xlsx\")\n",
    "\n",
    "# # File ID from Google Drive link\n",
    "# file_id = \"https://docs.google.com/spreadsheets/d/1Z9IA4Aert5fUN2hftvyuhwe1ABgmzN_z/edit?usp=drive_link&ouid=102378055089801091906&rtpof=true&sd=true\"\n",
    "\n",
    "# # Construct the direct download URL\n",
    "# url = f\"https://drive.google.com/uc?id={file_id}\"\n",
    "\n",
    "# # Output local file name\n",
    "# output_path = \"excel_data/birthdays.xlsx\"\n",
    "\n",
    "# # Download the file\n",
    "# gdown.download(url, output_path, quiet=False)\n",
    "\n",
    "# birthday_df=pd.read_excel(output_path)"
   ]
  },
  {
   "cell_type": "code",
   "execution_count": 42,
   "metadata": {},
   "outputs": [
    {
     "data": {
      "text/html": [
       "<div>\n",
       "<style scoped>\n",
       "    .dataframe tbody tr th:only-of-type {\n",
       "        vertical-align: middle;\n",
       "    }\n",
       "\n",
       "    .dataframe tbody tr th {\n",
       "        vertical-align: top;\n",
       "    }\n",
       "\n",
       "    .dataframe thead th {\n",
       "        text-align: right;\n",
       "    }\n",
       "</style>\n",
       "<table border=\"1\" class=\"dataframe\">\n",
       "  <thead>\n",
       "    <tr style=\"text-align: right;\">\n",
       "      <th></th>\n",
       "      <th>Name</th>\n",
       "      <th>Date</th>\n",
       "      <th>Month</th>\n",
       "      <th>Birthday</th>\n",
       "    </tr>\n",
       "  </thead>\n",
       "  <tbody>\n",
       "    <tr>\n",
       "      <th>0</th>\n",
       "      <td>Bharat Bansal</td>\n",
       "      <td>10</td>\n",
       "      <td>January</td>\n",
       "      <td>2025-01-10</td>\n",
       "    </tr>\n",
       "    <tr>\n",
       "      <th>1</th>\n",
       "      <td>Archana</td>\n",
       "      <td>23</td>\n",
       "      <td>January</td>\n",
       "      <td>2025-01-23</td>\n",
       "    </tr>\n",
       "    <tr>\n",
       "      <th>2</th>\n",
       "      <td>Ayush</td>\n",
       "      <td>18</td>\n",
       "      <td>February</td>\n",
       "      <td>2025-02-18</td>\n",
       "    </tr>\n",
       "    <tr>\n",
       "      <th>3</th>\n",
       "      <td>Akash</td>\n",
       "      <td>18</td>\n",
       "      <td>March</td>\n",
       "      <td>2025-03-18</td>\n",
       "    </tr>\n",
       "    <tr>\n",
       "      <th>4</th>\n",
       "      <td>Vishesh</td>\n",
       "      <td>24</td>\n",
       "      <td>March</td>\n",
       "      <td>2025-03-24</td>\n",
       "    </tr>\n",
       "  </tbody>\n",
       "</table>\n",
       "</div>"
      ],
      "text/plain": [
       "            Name  Date     Month   Birthday\n",
       "0  Bharat Bansal    10   January 2025-01-10\n",
       "1        Archana    23   January 2025-01-23\n",
       "2          Ayush    18  February 2025-02-18\n",
       "3          Akash    18     March 2025-03-18\n",
       "4        Vishesh    24     March 2025-03-24"
      ]
     },
     "execution_count": 42,
     "metadata": {},
     "output_type": "execute_result"
    }
   ],
   "source": [
    "birthday_df.head()\n"
   ]
  },
  {
   "cell_type": "code",
   "execution_count": 43,
   "metadata": {},
   "outputs": [
    {
     "data": {
      "text/html": [
       "<div>\n",
       "<style scoped>\n",
       "    .dataframe tbody tr th:only-of-type {\n",
       "        vertical-align: middle;\n",
       "    }\n",
       "\n",
       "    .dataframe tbody tr th {\n",
       "        vertical-align: top;\n",
       "    }\n",
       "\n",
       "    .dataframe thead th {\n",
       "        text-align: right;\n",
       "    }\n",
       "</style>\n",
       "<table border=\"1\" class=\"dataframe\">\n",
       "  <thead>\n",
       "    <tr style=\"text-align: right;\">\n",
       "      <th></th>\n",
       "      <th>Name</th>\n",
       "      <th>Date</th>\n",
       "      <th>Month</th>\n",
       "      <th>Spouse</th>\n",
       "      <th>Anniversary</th>\n",
       "    </tr>\n",
       "  </thead>\n",
       "  <tbody>\n",
       "    <tr>\n",
       "      <th>0</th>\n",
       "      <td>Ayush</td>\n",
       "      <td>12</td>\n",
       "      <td>May</td>\n",
       "      <td>Shubhi</td>\n",
       "      <td>2025-05-12</td>\n",
       "    </tr>\n",
       "    <tr>\n",
       "      <th>1</th>\n",
       "      <td>Shubhi</td>\n",
       "      <td>12</td>\n",
       "      <td>May</td>\n",
       "      <td>Ayush</td>\n",
       "      <td>2025-05-12</td>\n",
       "    </tr>\n",
       "    <tr>\n",
       "      <th>2</th>\n",
       "      <td>Vishesh</td>\n",
       "      <td>1</td>\n",
       "      <td>December</td>\n",
       "      <td>Shikha</td>\n",
       "      <td>2025-12-01</td>\n",
       "    </tr>\n",
       "    <tr>\n",
       "      <th>3</th>\n",
       "      <td>Shikha</td>\n",
       "      <td>1</td>\n",
       "      <td>December</td>\n",
       "      <td>Vishesh</td>\n",
       "      <td>2025-12-01</td>\n",
       "    </tr>\n",
       "    <tr>\n",
       "      <th>4</th>\n",
       "      <td>Akash</td>\n",
       "      <td>2</td>\n",
       "      <td>December</td>\n",
       "      <td>Neha</td>\n",
       "      <td>2025-12-02</td>\n",
       "    </tr>\n",
       "  </tbody>\n",
       "</table>\n",
       "</div>"
      ],
      "text/plain": [
       "      Name  Date     Month   Spouse Anniversary\n",
       "0    Ayush    12       May   Shubhi  2025-05-12\n",
       "1  Shubhi     12       May    Ayush  2025-05-12\n",
       "2  Vishesh     1  December   Shikha  2025-12-01\n",
       "3  Shikha      1  December  Vishesh  2025-12-01\n",
       "4    Akash     2  December     Neha  2025-12-02"
      ]
     },
     "execution_count": 43,
     "metadata": {},
     "output_type": "execute_result"
    }
   ],
   "source": [
    "anniversary_df.head()"
   ]
  },
  {
   "cell_type": "code",
   "execution_count": 44,
   "metadata": {},
   "outputs": [],
   "source": [
    "birthday_df['birthday_str'] = birthday_df['Birthday'].astype(str)\n",
    "anniversary_df['anniversary_str'] = anniversary_df['Anniversary'].astype(str)\n",
    "\n",
    "birthday_df['birthday_str']=birthday_df['birthday_str'].apply(lambda x: x[5:])\n",
    "anniversary_df['anniversary_str']=anniversary_df['anniversary_str'].apply(lambda x: x[5:])\n",
    "\n",
    "birthday_df=birthday_df.loc[:,[\"Name\",\"birthday_str\"]]\n",
    "anniversary_df=anniversary_df.loc[:,[\"Name\",\"anniversary_str\",\"Spouse\"]]"
   ]
  },
  {
   "cell_type": "code",
   "execution_count": 45,
   "metadata": {},
   "outputs": [],
   "source": [
    "birthday_smallcase_df = birthday_df.applymap(lambda x: x.lower() if isinstance(x, str) else x)\n",
    "anniversary_smallcase_df = anniversary_df.applymap(lambda x: x.lower() if isinstance(x, str) else x)"
   ]
  },
  {
   "cell_type": "code",
   "execution_count": 46,
   "metadata": {},
   "outputs": [],
   "source": [
    "birthday_final = {\"birthdays\": birthday_smallcase_df.to_dict(orient=\"records\")}\n",
    "anniversary_final = {\"anniversaries\": anniversary_smallcase_df.to_dict(orient=\"records\")}"
   ]
  },
  {
   "cell_type": "code",
   "execution_count": 47,
   "metadata": {},
   "outputs": [],
   "source": [
    "with open(\"../data/birthday_json.json\", \"w\") as f:\n",
    "    json.dump(birthday_final, f, indent=4)\n",
    "\n",
    "with open(\"../data/anniversary_json.json\", \"w\") as f:\n",
    "    json.dump(anniversary_final, f, indent=4)"
   ]
  },
  {
   "cell_type": "code",
   "execution_count": 48,
   "metadata": {},
   "outputs": [],
   "source": [
    "# birthday_final.to_json(\"../js/data/birthday_json.json\",orient=\"records\", lines=True)\n",
    "# anniversary_final.to_json(\"../js/data/anniversary_json.json\",orient=\"records\", lines=True)"
   ]
  },
  {
   "cell_type": "code",
   "execution_count": null,
   "metadata": {},
   "outputs": [],
   "source": []
  }
 ],
 "metadata": {
  "kernelspec": {
   "display_name": "Python 3",
   "language": "python",
   "name": "python3"
  },
  "language_info": {
   "codemirror_mode": {
    "name": "ipython",
    "version": 3
   },
   "file_extension": ".py",
   "mimetype": "text/x-python",
   "name": "python",
   "nbconvert_exporter": "python",
   "pygments_lexer": "ipython3",
   "version": "3.8.10"
  }
 },
 "nbformat": 4,
 "nbformat_minor": 2
}
